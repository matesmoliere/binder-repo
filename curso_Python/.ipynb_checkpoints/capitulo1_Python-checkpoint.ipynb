{
 "cells": [
  {
   "cell_type": "markdown",
   "metadata": {
    "colab_type": "text",
    "id": "QxxH0AcX15bs"
   },
   "source": [
    "# Capítulo 1 - Python como calculadora\n",
    "**2020 Colegio Molière**\n",
    "\n",
    "*Antonio Rodríguez, noviembre 1, 2020*\n",
    "\n",
    "¡Bienvenidos a Python!  Con este notebook os mostraremos cómo podemos iniciarnos rápidamente en Python utilizando la plataforma colaborativa [Binder](https://mybinder.com). Binder es básicamente un servicio gratuito que puede ejecutar código Python en la nube desde nuestro repositorio de Github.\n",
    "\n",
    "Aquí os mostraré algunos de los elementos básicos de la programación en Python. Veremos como:\n",
    "\n",
    "* Imprimir por pantalla.\n",
    "* Realizar simples cálculos matemáticos.\n",
    "* Operadores y Variables.\n",
    "* Crear un programa para realizar cálculos personales."
   ]
  },
  {
   "cell_type": "markdown",
   "metadata": {
    "colab_type": "text",
    "id": "uHXHmHwv--ww"
   },
   "source": [
    "## Cómo lo haremos\n",
    "\n",
    "Los notebooks de Jupyter tienen dos tipos de celdas: celdas \"Markdown\", como ésta que contienen texto formateado, y celdas \"Code\", que contienen el código a ejecutar.\n",
    "\n",
    "Para ejecutar el código de un celda, podemos:\n",
    "* Presionar **Cmd (or Ctrl) + Enter** para ejecutar la celda sobre la que estamos. \n",
    "* O presionar **Shift + Enter** para ejecutar la celda sobre la que estamos y avanzar a la siguiente.\n",
    "\n",
    "Puedes elegir cualquiera de las opciones para ejecutar el código que tienes debajo. Una vez que se ha ejecutado el código de la celda, verás el resultado a continuación.\n",
    "\n",
    "***Sería interesante que cambiaras el contenido de las celdas para que puedas ver los cambios que se producen cuando tú ingresas textos o números distintos a los que yo he puesto como ejemplo***"
   ]
  },
  {
   "cell_type": "code",
   "execution_count": null,
   "metadata": {
    "colab": {},
    "colab_type": "code",
    "id": "gQSi2cI9_EZG"
   },
   "outputs": [],
   "source": [
    "2 + 2"
   ]
  },
  {
   "cell_type": "markdown",
   "metadata": {},
   "source": [
    "## 1.1 Imprimir\n",
    "¿Cómo imprime un programa algo en pantalla? Mira los siguientes ejemplos:"
   ]
  },
  {
   "cell_type": "markdown",
   "metadata": {},
   "source": [
    "### 1.1.1 Imprimir texto"
   ]
  },
  {
   "cell_type": "code",
   "execution_count": null,
   "metadata": {
    "colab": {},
    "colab_type": "code",
    "id": "0a6RP0OvBGpl",
    "scrolled": true
   },
   "outputs": [],
   "source": [
    "print(\"¡Hola Mundo!\")"
   ]
  },
  {
   "cell_type": "markdown",
   "metadata": {},
   "source": [
    "¿Cómo sería el programa **Hola Mundo** en otros lenguajes de programación? Compruébalo en la Wikipedia. En ella se muestran una buena cantidad de programas de **Hola Mundo** escritos en distintos lenguajes de programación: [Hola Mundo](http://es.wikipedia.org/wiki/Hola_mundo)"
   ]
  },
  {
   "cell_type": "markdown",
   "metadata": {},
   "source": [
    "Recuerda, el comando para imprimir en Python es fácil. Simplemente escribe `print`. Después del comando `print` hay un par de paréntesis `( )`. Dentro de estos paréntesis está lo que debería ser imprimido por pantalla. El usar paréntesis para pasar información a una función es una práctica habitual en matemáticas y lenguajes de programación."
   ]
  },
  {
   "cell_type": "markdown",
   "metadata": {},
   "source": [
    "Fíjate que hay comillas dobles rodeando el texto a ser imprimido. Si una declaración de print tiene comillas rodeando el texto, el ordenador lo imprimirá tal cual está escrito. Por ejemplo, este programa imprimirá 2 + 3:"
   ]
  },
  {
   "cell_type": "code",
   "execution_count": null,
   "metadata": {},
   "outputs": [],
   "source": [
    "print('2 + 3')"
   ]
  },
  {
   "cell_type": "code",
   "execution_count": null,
   "metadata": {
    "colab": {},
    "colab_type": "code",
    "id": "wYHhEJnwBnsY"
   },
   "outputs": [],
   "source": [
    "# Ahora te toca a tí: crea aquí tu propio comando print() para imprimir tu nombre\n",
    "print()"
   ]
  },
  {
   "cell_type": "markdown",
   "metadata": {
    "colab_type": "text",
    "id": "i4k796DieJ0_"
   },
   "source": [
    "**Una observación sobre print()**\n",
    "\n",
    "* Por defecto, un notebook Colab/Jupyter imprimirá el resultado después de ejecutar la celda sin necesidad de especificar el comando `print()`.  \n",
    "* Sin embargo, si queremos imprimir el resultado de varias líneas de código, necesitamos usar el comando `print()` en cada una de ellas (como se ve debajo).\n",
    "* Algunas veces, puedes suprimir el resultado de la última línea añadiéndole un punto y coma `;` al final."
   ]
  },
  {
   "cell_type": "code",
   "execution_count": null,
   "metadata": {
    "colab": {},
    "colab_type": "code",
    "id": "hP7VTnDB_dRh"
   },
   "outputs": [],
   "source": [
    "3\n",
    "4\n",
    "5"
   ]
  },
  {
   "cell_type": "code",
   "execution_count": null,
   "metadata": {
    "colab": {},
    "colab_type": "code",
    "id": "rbULmpXCFJIZ"
   },
   "outputs": [],
   "source": [
    "print(3)\n",
    "print(4)\n",
    "print(5)"
   ]
  },
  {
   "cell_type": "markdown",
   "metadata": {},
   "source": [
    "### 1.1.2 Imprimir operaciones"
   ]
  },
  {
   "cell_type": "markdown",
   "metadata": {},
   "source": [
    "El siguiente programa no tiene comillas rodeando 2 + 3. El ordenador lo evaluará como una expresión matemática. Imprimirá 5 en vez de 2 + 3."
   ]
  },
  {
   "cell_type": "code",
   "execution_count": null,
   "metadata": {},
   "outputs": [],
   "source": [
    "print(2 + 3)"
   ]
  },
  {
   "cell_type": "markdown",
   "metadata": {},
   "source": [
    "El código siguiente producirá un error porque el ordenador intentará evaluar “Hola Mundo” como una expresión matemática y eso no funcionará:"
   ]
  },
  {
   "cell_type": "code",
   "execution_count": null,
   "metadata": {},
   "outputs": [],
   "source": [
    "print(Hola Mundo)"
   ]
  },
  {
   "cell_type": "markdown",
   "metadata": {},
   "source": [
    "El código anterior imprimirá un error del tipo `SyntaxError: invalid syntax`, que es la manera en que expresa el ordenador su desconocimiento de “Hola” y “Mundo”."
   ]
  },
  {
   "cell_type": "markdown",
   "metadata": {},
   "source": [
    "**En Python tenemos las operaciones aritméticas básicas de suma `+`, resta `-`, producto `*` y división `/`**"
   ]
  },
  {
   "cell_type": "code",
   "execution_count": null,
   "metadata": {},
   "outputs": [],
   "source": [
    "4 + 3"
   ]
  },
  {
   "cell_type": "code",
   "execution_count": null,
   "metadata": {},
   "outputs": [],
   "source": [
    "4 - 3"
   ]
  },
  {
   "cell_type": "code",
   "execution_count": null,
   "metadata": {},
   "outputs": [],
   "source": [
    "4 * 3"
   ]
  },
  {
   "cell_type": "code",
   "execution_count": null,
   "metadata": {},
   "outputs": [],
   "source": [
    "4 / 3"
   ]
  },
  {
   "cell_type": "markdown",
   "metadata": {},
   "source": [
    "**Luego tenemos la potencia `**`, el cociente entero de una división `//`, y el resto entero de una división (módulo) `%`**"
   ]
  },
  {
   "cell_type": "code",
   "execution_count": null,
   "metadata": {},
   "outputs": [],
   "source": [
    "4 ** 3"
   ]
  },
  {
   "cell_type": "code",
   "execution_count": null,
   "metadata": {},
   "outputs": [],
   "source": [
    "5 // 3"
   ]
  },
  {
   "cell_type": "code",
   "execution_count": null,
   "metadata": {},
   "outputs": [],
   "source": [
    "5 % 3"
   ]
  },
  {
   "cell_type": "markdown",
   "metadata": {},
   "source": [
    "### 1.1.3 Imprimir múltiples elementos\n",
    "Una declaración print puede sacar múltiples cosas a la vez, cada elemento separado por una coma. Por ejemplo, este código imprimirá `Tu nueva puntuación es 1040`"
   ]
  },
  {
   "cell_type": "code",
   "execution_count": null,
   "metadata": {},
   "outputs": [],
   "source": [
    "print('Tu nueva puntuación es', 1040)"
   ]
  },
  {
   "cell_type": "markdown",
   "metadata": {},
   "source": [
    "Intenta ahora los siguientes ejercicios:"
   ]
  },
  {
   "cell_type": "code",
   "execution_count": null,
   "metadata": {},
   "outputs": [],
   "source": [
    "print('Tu nueva puntuación es', '1010 + 30')"
   ]
  },
  {
   "cell_type": "code",
   "execution_count": null,
   "metadata": {},
   "outputs": [],
   "source": [
    "print('Tu nueva puntuación es', 1010 + 30)"
   ]
  },
  {
   "cell_type": "markdown",
   "metadata": {},
   "source": [
    "¿Observas la diferencia y el por qué?"
   ]
  },
  {
   "cell_type": "markdown",
   "metadata": {},
   "source": [
    "Tampoco estamos limitados a una sola declaración `print`. Podemos imprimir varias líneas de una sola vez"
   ]
  },
  {
   "cell_type": "code",
   "execution_count": null,
   "metadata": {},
   "outputs": [],
   "source": [
    "print('Hola')\n",
    "print('Me llamo')\n",
    "print('Obi-Wan Kenobi')"
   ]
  },
  {
   "cell_type": "markdown",
   "metadata": {},
   "source": [
    "### 1.1.4 Códigos de Escape"
   ]
  },
  {
   "cell_type": "markdown",
   "metadata": {},
   "source": [
    "Pero qué sucede si dentro de una declaración `print` existen más de un par de comillas. Es importante saber que un par de comillas son:\n",
    "* Esto es una comilla simple `'`\n",
    "* Esto es una comilla doble`\"`\n",
    "* Esto es una doble comilla doble `\" \"`\n",
    "* Esto es una doble comilla simple `' '`"
   ]
  },
  {
   "cell_type": "code",
   "execution_count": 1,
   "metadata": {},
   "outputs": [
    {
     "ename": "SyntaxError",
     "evalue": "invalid syntax (<ipython-input-1-9ac2d94af187>, line 2)",
     "output_type": "error",
     "traceback": [
      "\u001b[0;36m  File \u001b[0;32m\"<ipython-input-1-9ac2d94af187>\"\u001b[0;36m, line \u001b[0;32m2\u001b[0m\n\u001b[0;31m    print(\"Hey! Esto es una comilla doble: \" La usamos para imprimir.\")\u001b[0m\n\u001b[0m                                              ^\u001b[0m\n\u001b[0;31mSyntaxError\u001b[0m\u001b[0;31m:\u001b[0m invalid syntax\n"
     ]
    }
   ],
   "source": [
    "# Si intentamos imprimir ésto nos dará error:\n",
    "print(\"Hey! Esto es una comilla doble: \" La usamos para imprimir.\")"
   ]
  },
  {
   "cell_type": "markdown",
   "metadata": {},
   "source": [
    "Para que lo anterior tenga algún sentido deberemos usar los llamados \"Códigos de Escape\":"
   ]
  },
  {
   "cell_type": "markdown",
   "metadata": {},
   "source": [
    "<table>\n",
    "<tr>\n",
    "    <th> Código de Escape </th>\n",
    "    <th> Descripción </th>\n",
    "</tr>\n",
    "\n",
    "<tr>\n",
    "    <td> \\' </td>\n",
    "    <td> Comilla simple </td>\n",
    "</tr>\n",
    "\n",
    "<tr>\n",
    "    <td> \\\" </td>\n",
    "    <td> Comilla doble </td>\n",
    "</tr>\n",
    "\n",
    "<tr>\n",
    "    <td> \\t </td>\n",
    "    <td> Tabulación </td>\n",
    "</tr>\n",
    "\n",
    "\n",
    "<tr>\n",
    "    <td> \\n </td>\n",
    "    <td> Siguiente línea </td>\n",
    "</tr>\n",
    "\n",
    "</table>"
   ]
  },
  {
   "cell_type": "markdown",
   "metadata": {},
   "source": [
    "Es importante que cuando usemos el código `\\n` no pongamos espacios. Mirad los dos ejemplos siguientes"
   ]
  },
  {
   "cell_type": "code",
   "execution_count": 2,
   "metadata": {},
   "outputs": [
    {
     "name": "stdout",
     "output_type": "stream",
     "text": [
      "Esto\n",
      "es\n",
      "un\n",
      "ejemplo.\n"
     ]
    }
   ],
   "source": [
    "print(\"Esto\\nes\\nun\\nejemplo.\")"
   ]
  },
  {
   "cell_type": "code",
   "execution_count": null,
   "metadata": {},
   "outputs": [],
   "source": [
    "print(\"Esto \\n es \\n un \\n ejemplo.\")"
   ]
  },
  {
   "cell_type": "markdown",
   "metadata": {},
   "source": [
    "### 1.1.5 Comentarios\n",
    "\n",
    "Anteriormente ya hemos empleado los comentarios para escribir algo que luego el ordenador no ejecutará. Para introducir un comentario usamos la almohadilla `#`"
   ]
  },
  {
   "cell_type": "code",
   "execution_count": null,
   "metadata": {},
   "outputs": [],
   "source": [
    "# Esto es un comentario que comienza con el signo '#' \n",
    "# y el ordenador lo ignorará. No se escribirá nada al ejecutarlo"
   ]
  },
  {
   "cell_type": "code",
   "execution_count": null,
   "metadata": {},
   "outputs": [],
   "source": [
    "# Por el contrario, ésto sí que se imprimirá\n",
    "print(\"Esto no es un comentario, el ordenador\")\n",
    "print(\"ejecutará esto y lo imprimirá.\")"
   ]
  },
  {
   "cell_type": "markdown",
   "metadata": {},
   "source": [
    "Si no queremos escribir varias líneas usando los códigos de escape, podemos usar la opción de las triples comillas (simples o dobles) al principio y final del texto."
   ]
  },
  {
   "cell_type": "code",
   "execution_count": null,
   "metadata": {},
   "outputs": [],
   "source": [
    "print('''\n",
    "Puedes escribir\n",
    "varias líneas\n",
    "unas\n",
    "debajo de\n",
    "las otras\n",
    "''')\n",
    "\n",
    "print('o')\n",
    "\n",
    "print('''\n",
    "Puedes escribir\n",
    "    varias líneas\n",
    "    unas\n",
    "    debajo de\n",
    "    las otras\n",
    "''')\n"
   ]
  },
  {
   "cell_type": "markdown",
   "metadata": {},
   "source": [
    "### 1.2 Operadores y asignación\n",
    "\n",
    "¿Cómo almacenamos la puntuación en nuestro juego? ¿Cómo controlamos la resistencia del enemigo? Lo que tenemos que hacer es usar un operador de asignación. Un operador es un símbolo como `+` o `-`. Esto almacena un valor en una variable para ser usado luego. El código de abajo asignará 10 a la `variable x`, y luego imprimirá el valor almacenado en `x`."
   ]
  },
  {
   "cell_type": "code",
   "execution_count": null,
   "metadata": {},
   "outputs": [],
   "source": [
    "# Crea la variable x y almacena el valor de 10 en ella.\n",
    "# Es importante recordar que no leemos que x sea igual a 10\n",
    "# lo que leemos es que le pasamos el valor de 10 a x\n",
    "x = 10\n",
    " \n",
    "# Imprime el valor almacenado en x.\n",
    "print(x)\n",
    " \n",
    "# Imprime la letra x, pero no el valor contenido en x\n",
    "print(\"x\")\n",
    " \n",
    "# Imprime \"x = 10\"\n",
    "print(\"x =\", x)"
   ]
  },
  {
   "cell_type": "code",
   "execution_count": null,
   "metadata": {},
   "outputs": [],
   "source": [
    "# Antes de ejecutar este código, intenta adivinar qué valor imprimirá\n",
    "x = 10\n",
    "x = x + 1\n",
    "print(x)"
   ]
  },
  {
   "cell_type": "markdown",
   "metadata": {},
   "source": [
    "La operación anterior `x = x + 1` la podemos reducir a `x += 1`.De igual forma podremos operar para la resta, multiplicación y división"
   ]
  },
  {
   "cell_type": "code",
   "execution_count": null,
   "metadata": {},
   "outputs": [],
   "source": [
    "x = 10\n",
    "x += 2 # En lugar de x = x + 2\n",
    "print(x)\n",
    "x -= 4 # En lugar de x = x - 4\n",
    "print(x)\n",
    "x *= 2 # En lugar de x = x * 2\n",
    "print(x)\n",
    "x /= 4 # En lugar de x = x / 2\n",
    "print(x)\n",
    "print('Ahora inténtalo con otro valores')"
   ]
  },
  {
   "cell_type": "code",
   "execution_count": null,
   "metadata": {},
   "outputs": [],
   "source": []
  }
 ],
 "metadata": {
  "colab": {
   "collapsed_sections": [],
   "name": "Activity 1 Python Basics.ipynb",
   "provenance": []
  },
  "kernelspec": {
   "display_name": "Python 3",
   "language": "python",
   "name": "python3"
  },
  "language_info": {
   "codemirror_mode": {
    "name": "ipython",
    "version": 3
   },
   "file_extension": ".py",
   "mimetype": "text/x-python",
   "name": "python",
   "nbconvert_exporter": "python",
   "pygments_lexer": "ipython3",
   "version": "3.7.1"
  }
 },
 "nbformat": 4,
 "nbformat_minor": 1
}

{
 "cells": [
  {
   "cell_type": "markdown",
   "metadata": {},
   "source": [
    "<h1><p style=\"text-align: center;\">Transformación de Funciones</p></h1>\n",
    "<p style=\"text-align: center;\"><i>Antonio Rodríguez 2020, Colegio Molière</i></p>\n",
    "\n",
    "En esta sección estudiamos la forma en que ciertas transformaciones de una función afectan su gráfica. Esto nos dará una mejor idea de cómo graficar funciones. Las transformaciones que estudiamos son desplazamiento, reflexión y alargamiento."
   ]
  },
  {
   "cell_type": "markdown",
   "metadata": {},
   "source": [
    "## Desplazamiento vertical\n",
    "\n",
    "Sumar una constante a una función desplaza verticalmente su gráfica; hacia arriba si la constante es positiva y hacia abajo si es negativa. En general, supongamos que conocemos la gráfica de $y = f(x)$. ¿Cómo obtenemos de ella las gráficas de lo siguiente?\n",
    "\n",
    "<p style=\"text-align: center;\">$y = f(x) + c \\hspace{1cm}$  y  $\\hspace{1cm} y = f(x) - c$ $\\hspace{1cm} (c > 0)$</p>\n",
    "\n",
    "Observamos:\n",
    "\n",
    "![](transformacionVerticalfunciones.png)"
   ]
  },
  {
   "cell_type": "markdown",
   "metadata": {},
   "source": [
    "Partiendo de una función elemental como $f(x) = x^2$, la desplazaremos verticalmente moviendo la barra hacia la izquierda (valores negativos) o hacia la derecha (valores positivos). Es decir, lo que haremos será sumar o restar un valor (en este ejemplo, entero) a la función: $f(x) = x^2  {\\displaystyle \\pm } c$"
   ]
  },
  {
   "cell_type": "code",
   "execution_count": 1,
   "metadata": {},
   "outputs": [
    {
     "data": {
      "application/vnd.jupyter.widget-view+json": {
       "model_id": "ae8204e5058141dea10a82ac80bd6754",
       "version_major": 2,
       "version_minor": 0
      },
      "text/plain": [
       "interactive(children=(IntSlider(value=0, description='c', max=10, min=-10), Output()), _dom_classes=('widget-i…"
      ]
     },
     "metadata": {},
     "output_type": "display_data"
    }
   ],
   "source": [
    "%run desplazarVerticalmenteParabola_ipywidget.py"
   ]
  },
  {
   "cell_type": "markdown",
   "metadata": {},
   "source": [
    "Aquí podemos ver los mismo pero para la función Seno: $f(x) = seno(x)  {\\displaystyle \\pm } c$"
   ]
  },
  {
   "cell_type": "code",
   "execution_count": 2,
   "metadata": {},
   "outputs": [
    {
     "data": {
      "application/vnd.jupyter.widget-view+json": {
       "model_id": "5f353545858744e4949b5244a758a673",
       "version_major": 2,
       "version_minor": 0
      },
      "text/plain": [
       "interactive(children=(IntSlider(value=0, description='c', max=10, min=-10), Output()), _dom_classes=('widget-i…"
      ]
     },
     "metadata": {},
     "output_type": "display_data"
    }
   ],
   "source": [
    "%run desplazarVerticalmenteSeno_ipywidget.py"
   ]
  },
  {
   "cell_type": "markdown",
   "metadata": {},
   "source": [
    "## Desplazamiento horizontal\n",
    "\n",
    "En este caso, la suma o resta de una constante se realiza dentro de la propia función. En general, supongamos que conocemos la gráfica de $y = f(x)$. ¿Cómo obtenemos de ella las gráficas de lo siguiente?\n",
    "\n",
    "<p style=\"text-align: center;\">$y = f(x + c)  \\hspace{1cm}$  y  $\\hspace{1cm} y = f(x - c)$ $\\hspace{1cm} (c > 0)$</p>\n",
    "\n",
    "Observamos:\n",
    "\n",
    "![](transformacionHorizontalfunciones.png)"
   ]
  },
  {
   "cell_type": "markdown",
   "metadata": {},
   "source": [
    "Partiendo de una función elemental como $f(x) = x^2$, la desplazaremos horizontalmente moviendo la barra hacia la izquierda (valores positivos) o hacia la derecha (valores negativos). Es decir, lo que haremos será sumar o restar un valor (en este ejemplo, entero) a la función: $f(x) = (x {\\displaystyle \\pm } c)^2$"
   ]
  },
  {
   "cell_type": "code",
   "execution_count": 3,
   "metadata": {},
   "outputs": [
    {
     "data": {
      "application/vnd.jupyter.widget-view+json": {
       "model_id": "2dd65ba1922f4970bb9edabe0ee84b77",
       "version_major": 2,
       "version_minor": 0
      },
      "text/plain": [
       "interactive(children=(IntSlider(value=0, description='c', max=10, min=-10), Output()), _dom_classes=('widget-i…"
      ]
     },
     "metadata": {},
     "output_type": "display_data"
    }
   ],
   "source": [
    "%run desplazarHorizontalmenteParabola_ipywidget.py"
   ]
  },
  {
   "cell_type": "markdown",
   "metadata": {},
   "source": [
    "### Combinación de ambos tipos de desplazamiento\n",
    "\n",
    "Podemos, por último, combinar ambos tipos de desplazamiento de una función como $y = f(x)$ de la siguiente manera: $y = f(x {\\displaystyle \\pm} c ) {\\displaystyle \\pm } d$. Para ello nos ayudaremos una vez más de la función cuadrática. Tomando como base $f(x) = x^2$ haremos: $f(x) = (x{\\displaystyle \\pm} c )^2 {\\displaystyle \\pm } d$"
   ]
  },
  {
   "cell_type": "code",
   "execution_count": 4,
   "metadata": {},
   "outputs": [
    {
     "data": {
      "application/vnd.jupyter.widget-view+json": {
       "model_id": "014f88a5edae4e67a01621f9917a61f2",
       "version_major": 2,
       "version_minor": 0
      },
      "text/plain": [
       "interactive(children=(IntSlider(value=0, description='c', max=10, min=-10), IntSlider(value=0, description='d'…"
      ]
     },
     "metadata": {},
     "output_type": "display_data"
    }
   ],
   "source": [
    "%run desplazarVerticalHorizontalParabola_ipywidget.py"
   ]
  },
  {
   "cell_type": "markdown",
   "metadata": {},
   "source": [
    "## Gráficas que se reflejan\n",
    "\n",
    "Supongamos que conocemos la gráfica de $y = f(x)$. ¿Cómo la usamos para obtener las gráficas de $y = -f(x) \\hspace{0.25cm}$ (reflejada respecto al eje $x$) y $\\hspace{0.25cm} y = f(-x)$ (reflejada respecto al eje $y$)?\n",
    "\n",
    "![](reflejarFunciones.png)"
   ]
  },
  {
   "cell_type": "markdown",
   "metadata": {},
   "source": [
    "Para ello usaremos dos funciones diferentes, la primera, la función cuadrática $f(x) = x^2 \\hspace{0.25cm}$ y la función radical $f(x) = \\sqrt{x}$"
   ]
  },
  {
   "cell_type": "code",
   "execution_count": 13,
   "metadata": {},
   "outputs": [
    {
     "data": {
      "application/vnd.jupyter.widget-view+json": {
       "model_id": "bc610781bc694d8fae5fe308f42ed875",
       "version_major": 2,
       "version_minor": 0
      },
      "text/plain": [
       "interactive(children=(IntSlider(value=1, description='a', max=1, min=-1), Output()), _dom_classes=('widget-int…"
      ]
     },
     "metadata": {},
     "output_type": "display_data"
    }
   ],
   "source": [
    "%run reflejarFunciones_ipywidget.py"
   ]
  },
  {
   "cell_type": "code",
   "execution_count": null,
   "metadata": {},
   "outputs": [],
   "source": []
  }
 ],
 "metadata": {
  "kernelspec": {
   "display_name": "Python 3",
   "language": "python",
   "name": "python3"
  },
  "language_info": {
   "codemirror_mode": {
    "name": "ipython",
    "version": 3
   },
   "file_extension": ".py",
   "mimetype": "text/x-python",
   "name": "python",
   "nbconvert_exporter": "python",
   "pygments_lexer": "ipython3",
   "version": "3.7.1"
  }
 },
 "nbformat": 4,
 "nbformat_minor": 2
}

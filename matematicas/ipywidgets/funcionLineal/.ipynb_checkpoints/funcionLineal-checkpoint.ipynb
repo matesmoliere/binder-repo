{
 "cells": [
  {
   "cell_type": "markdown",
   "metadata": {},
   "source": [
    "<h1><p style=\"text-align: center;\">Función Lineal</p></h1>\n",
    "<p style=\"text-align: center;\"><i>Antonio Rodríguez 2020, Colegio Molière</i></p>\n",
    "\n",
    "En esta sección estudiamos la Función Lineal y los parámetros que determinan su gráfica. Aplicaremos, de forma particular, lo que ya se vió en el capítulo de Transformación de Funciones."
   ]
  },
  {
   "cell_type": "markdown",
   "metadata": {},
   "source": [
    "## Función de Proporcionalidad: $y = mx$\n",
    "\n",
    "Ya en el capítulo de Funciones estudiamos las variables; independiente y dependiente. Vimos que la variable dependiente $\\textbf{y}$ cambiaba de valor según los valores que iba tomando la variable independiente $\\textbf{x}$ según la expresión general $y = f(x)$ que leíamos como '*y es función de f de x*'. En este caso, los valores de $\\textbf{y}$ cambian en función, no sólo de los valores que va tomando $\\textbf{x}$, si no también del valor de la constante $\\textbf{m}$, donde $m \\in \\mathbb{R}$. En el caso de esta función, $m$ se denomina **'constante de proporcionalidad'**. Observemos que cuando $m = 0 \\hspace{0.25cm} \\rightarrow y = 0$ \n",
    "\n",
    "Esta función pasa siempre por el Origen de Coordenadas $(0, 0)$ y según el valor de $m$, cambia su inclinacón y sentido respecto a los ejes. En la siguiente simulación podemos escoger los valores (enteros) de $m$ desde $-3$ hasta $3$\n"
   ]
  },
  {
   "cell_type": "code",
   "execution_count": 10,
   "metadata": {},
   "outputs": [
    {
     "data": {
      "application/vnd.jupyter.widget-view+json": {
       "model_id": "9e89ad911a8f430c9a458571d5f24240",
       "version_major": 2,
       "version_minor": 0
      },
      "text/plain": [
       "interactive(children=(IntSlider(value=1, description='m', max=3, min=-3), Output()), _dom_classes=('widget-int…"
      ]
     },
     "metadata": {},
     "output_type": "display_data"
    }
   ],
   "source": [
    "%run funcionProporcionalidad1_ipywidget.py"
   ]
  },
  {
   "cell_type": "markdown",
   "metadata": {},
   "source": [
    "De forma general, la gráfica de $y = mx$ es la siguiente:"
   ]
  },
  {
   "cell_type": "code",
   "execution_count": 15,
   "metadata": {},
   "outputs": [
    {
     "data": {
      "application/vnd.jupyter.widget-view+json": {
       "model_id": "fa3bd570ff1e48b6b0db093cd3a80cd2",
       "version_major": 2,
       "version_minor": 0
      },
      "text/plain": [
       "interactive(children=(FloatSlider(value=1.0, description='m', max=3.0, min=-3.0, step=0.25), Output()), _dom_c…"
      ]
     },
     "metadata": {},
     "output_type": "display_data"
    }
   ],
   "source": [
    "%run funcionProporcionalidad2_ipywidget.py"
   ]
  },
  {
   "cell_type": "markdown",
   "metadata": {},
   "source": [
    "## Función Lineal: $y = mx + n$\n",
    "\n",
    "La constante de proporcionalidad $m$ toma en este caso el nombre de **pendiente**. Y $n$ de denomina *ordenada en el origen o 'intercepto'*\n",
    "<p style=\"text-align: center;\">$m = $ pendiente $\\hspace{1cm}$ y  $\\hspace{1cm} n = $ intercepto</p>\n"
   ]
  },
  {
   "cell_type": "markdown",
   "metadata": {},
   "source": [
    "En la siguiente simulación podemos jugar con los valores de $m$ y $n$ para ver el comportamiento de la función"
   ]
  },
  {
   "cell_type": "code",
   "execution_count": 20,
   "metadata": {},
   "outputs": [
    {
     "data": {
      "application/vnd.jupyter.widget-view+json": {
       "model_id": "0d6abbaaa12f433a91190e11f21ca0cf",
       "version_major": 2,
       "version_minor": 0
      },
      "text/plain": [
       "interactive(children=(FloatSlider(value=1.0, description='m', max=3.0, min=-3.0, step=0.25), FloatSlider(value…"
      ]
     },
     "metadata": {},
     "output_type": "display_data"
    }
   ],
   "source": [
    "%run funcionLineal_ipywidget.py"
   ]
  }
 ],
 "metadata": {
  "kernelspec": {
   "display_name": "Python 3",
   "language": "python",
   "name": "python3"
  },
  "language_info": {
   "codemirror_mode": {
    "name": "ipython",
    "version": 3
   },
   "file_extension": ".py",
   "mimetype": "text/x-python",
   "name": "python",
   "nbconvert_exporter": "python",
   "pygments_lexer": "ipython3",
   "version": "3.7.1"
  }
 },
 "nbformat": 4,
 "nbformat_minor": 2
}

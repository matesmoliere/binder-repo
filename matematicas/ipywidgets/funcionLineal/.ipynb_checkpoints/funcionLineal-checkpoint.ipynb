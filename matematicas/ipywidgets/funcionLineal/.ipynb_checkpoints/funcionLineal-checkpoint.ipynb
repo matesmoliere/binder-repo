{
 "cells": [
  {
   "cell_type": "markdown",
   "metadata": {},
   "source": [
    "<h1><p style=\"text-align: center;\">Función Lineal</p></h1>\n",
    "<p style=\"text-align: center;\"><i>Antonio Rodríguez 2020, Colegio Molière</i></p>\n",
    "\n",
    "En esta sección estudiamos la Función Lineal y los parámetros que determinan su gráfica. Aplicaremos, de forma particular, lo que ya se vió en el capítulo de Transformación de Funciones."
   ]
  },
  {
   "cell_type": "markdown",
   "metadata": {},
   "source": [
    "## Función de Proporcionalidad: $y = mx$\n",
    "\n",
    "Ya en el capítulo de Funciones estudiamos las variables; independiente y dependiente. Vimos que la variable dependiente $\\textbf{y}$ cambiaba de valor según los valores que iba tomando la variable independiente $\\textbf{x}$ según la expresión general $y = f(x)$ que leíamos como '*y es función de f de x*'. En este caso, los valores de $\\textbf{y}$ cambian en función, no sólo de los valores que va tomando $\\textbf{x}$, si no también del valor de la constante $\\textbf{m}$, donde $m \\in \\mathbb{R}$. En el caso de esta función, $m$ se denomina **'constante de proporcionalidad'**. Observemos que cuando $m = 0 \\hspace{0.25cm} \\rightarrow y = 0$ \n",
    "\n",
    "Esta función pasa siempre por el Origen de Coordenadas $(0, 0)$ y según el valor de $m$, cambia su inclinacón y sentido respecto a los ejes. En la siguiente simulación podemos escoger los valores (enteros) de $m$ desde $-3$ hasta $3$\n"
   ]
  },
  {
   "cell_type": "code",
   "execution_count": 1,
   "metadata": {},
   "outputs": [
    {
     "data": {
      "application/vnd.jupyter.widget-view+json": {
       "model_id": "4128a3e706a646fcaee0e81b4d6bf56b",
       "version_major": 2,
       "version_minor": 0
      },
      "text/plain": [
       "interactive(children=(IntSlider(value=1, description='m', max=3, min=-3), Output()), _dom_classes=('widget-int…"
      ]
     },
     "metadata": {},
     "output_type": "display_data"
    }
   ],
   "source": [
    "%run funcionProporcionalidad1_ipywidget.py"
   ]
  },
  {
   "cell_type": "markdown",
   "metadata": {},
   "source": [
    "De forma general, la gráfica de $y = mx$ es la siguiente:"
   ]
  },
  {
   "cell_type": "code",
   "execution_count": 2,
   "metadata": {},
   "outputs": [
    {
     "data": {
      "application/vnd.jupyter.widget-view+json": {
       "model_id": "779ff0ad72024aa59817f373cf1ed07a",
       "version_major": 2,
       "version_minor": 0
      },
      "text/plain": [
       "interactive(children=(FloatSlider(value=1.0, description='m', max=3.0, min=-3.0, step=0.25), Output()), _dom_c…"
      ]
     },
     "metadata": {},
     "output_type": "display_data"
    }
   ],
   "source": [
    "%run funcionProporcionalidad2_ipywidget.py"
   ]
  },
  {
   "cell_type": "markdown",
   "metadata": {},
   "source": [
    "## Función Lineal: $y = mx + n$\n",
    "\n",
    "La constante de proporcionalidad $m$ toma en este caso el nombre de **pendiente**. Y $n$ se denomina *ordenada en el origen o 'intercepto'*\n",
    "<p style=\"text-align: center;\">$m = $ pendiente $\\hspace{1cm}$ y  $\\hspace{1cm} n = $ intercepto</p>\n"
   ]
  },
  {
   "cell_type": "markdown",
   "metadata": {},
   "source": [
    "En la siguiente simulación podemos jugar con los valores de $m$ y $n$ para ver el comportamiento de la función"
   ]
  },
  {
   "cell_type": "code",
   "execution_count": 21,
   "metadata": {},
   "outputs": [
    {
     "data": {
      "application/vnd.jupyter.widget-view+json": {
       "model_id": "47b32f29d3d5412095ccf0c7c9bf4afe",
       "version_major": 2,
       "version_minor": 0
      },
      "text/plain": [
       "interactive(children=(FloatSlider(value=1.0, description='m', max=3.0, min=-3.0, step=0.25), FloatSlider(value…"
      ]
     },
     "metadata": {},
     "output_type": "display_data"
    }
   ],
   "source": [
    "%run funcionLineal_ipywidget.py"
   ]
  },
  {
   "cell_type": "markdown",
   "metadata": {},
   "source": [
    "## Ecuación a partir de un punto y la pendiente\n",
    "\n",
    "Supongamos que de una recta conocemos un punto  $(x_0, y_0)$  y su pendiente,  $m$.  Entonces, su ecuación puede ponerse así:\n",
    "\n",
    "<p style=\"text-align: center;\">$y = y_0 + m(x - x_0) \\hspace{1cm}$ a la que llamaremos <b>Ecuación Punto-Pendiente</b></p>\n",
    "<p style=\"text-align: center;\">Otra forma de ver la misma ecuación es:$\\hspace{1cm} y - y_0 = m(x - x_0)$</p>\n",
    "\n",
    "Esta ecuación, una vez despejadas las operaciones, nos permite llegar a la <b>Ecuación Lineal</b> vista arriba, $y = mx + n$"
   ]
  },
  {
   "cell_type": "code",
   "execution_count": 20,
   "metadata": {},
   "outputs": [
    {
     "data": {
      "application/vnd.jupyter.widget-view+json": {
       "model_id": "a565d974849a4de1a0ce8a0f806d4d2f",
       "version_major": 2,
       "version_minor": 0
      },
      "text/plain": [
       "interactive(children=(IntSlider(value=1, description='m', max=3, min=-3), IntSlider(value=0, description='x_0'…"
      ]
     },
     "metadata": {},
     "output_type": "display_data"
    }
   ],
   "source": [
    "%run ecuacionPuntopendiente_ipywidget.py"
   ]
  },
  {
   "cell_type": "markdown",
   "metadata": {},
   "source": [
    "## Ecuación a partir de dos puntos\n",
    "\n",
    "En este caso la pendiente no es desconocida, para hallarla usamos la siguiente ecuacíon conocidos dos puntos por donde pasa la recta; punto A y punto B, cada uno con sus respectivvas coordenadas: $A(x_0, y_0) \\hspace{0.25cm}$ y $B(x_1, y_1)$: \n",
    "\n",
    "<p style=\"text-align: center;\">$m = \\frac{y_1 - y_0}{x_1 - x_0} \\hspace{1cm}$ </p>\n",
    "\n",
    "En el caso del ejemplo siguiente, vamos a usar sólamente el punto A  para hacer la gráfica. Pero, ya sabemos que podemos optar por cualquiera de los dos puntos, ya sea A o B"
   ]
  },
  {
   "cell_type": "code",
   "execution_count": 30,
   "metadata": {},
   "outputs": [
    {
     "data": {
      "application/vnd.jupyter.widget-view+json": {
       "model_id": "2fc6d1f320d24e83876ee34935f543c3",
       "version_major": 2,
       "version_minor": 0
      },
      "text/plain": [
       "interactive(children=(IntSlider(value=0, description='x_0', max=5, min=-5), IntSlider(value=0, description='y_…"
      ]
     },
     "metadata": {},
     "output_type": "display_data"
    }
   ],
   "source": [
    "%run ecuacionDospuntos_ipywidget.py"
   ]
  }
 ],
 "metadata": {
  "kernelspec": {
   "display_name": "Python 3",
   "language": "python",
   "name": "python3"
  },
  "language_info": {
   "codemirror_mode": {
    "name": "ipython",
    "version": 3
   },
   "file_extension": ".py",
   "mimetype": "text/x-python",
   "name": "python",
   "nbconvert_exporter": "python",
   "pygments_lexer": "ipython3",
   "version": "3.7.1"
  }
 },
 "nbformat": 4,
 "nbformat_minor": 2
}
